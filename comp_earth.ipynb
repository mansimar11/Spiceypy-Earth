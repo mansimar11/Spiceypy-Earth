{
 "cells": [
  {
   "cell_type": "code",
   "execution_count": 3,
   "metadata": {},
   "outputs": [],
   "source": [
    "import spiceypy"
   ]
  },
  {
   "cell_type": "code",
   "execution_count": 4,
   "metadata": {},
   "outputs": [],
   "source": [
    "import datetime\n",
    "\n",
    "date_today=datetime.datetime.today()\n",
    "\n",
    "date_today=date_today.strftime(\"%Y-%m-%dT00:00:00\")\n",
    "\n"
   ]
  },
  {
   "cell_type": "code",
   "execution_count": 5,
   "metadata": {},
   "outputs": [
    {
     "name": "stdout",
     "output_type": "stream",
     "text": [
      "2023-12-30T00:00:00\n"
     ]
    }
   ],
   "source": [
    "print(date_today)"
   ]
  },
  {
   "cell_type": "code",
   "execution_count": 22,
   "metadata": {},
   "outputs": [],
   "source": [
    "spiceypy.furnsh(\"../Earth/kernels/lsk/naif0012.tls\")\n",
    "spiceypy.furnsh(\"../Earth/kernels/spk/de432s.bsp\")"
   ]
  },
  {
   "cell_type": "code",
   "execution_count": 9,
   "metadata": {},
   "outputs": [
    {
     "name": "stdout",
     "output_type": "stream",
     "text": [
      "757166469.1838484\n"
     ]
    }
   ],
   "source": [
    "et_today_midnight = spiceypy.utc2et(date_today)\n",
    "print(et_today_midnight)"
   ]
  },
  {
   "cell_type": "code",
   "execution_count": 11,
   "metadata": {},
   "outputs": [
    {
     "name": "stdout",
     "output_type": "stream",
     "text": [
      "[-1.96424670e+07  1.45790209e+08 -8.38344489e+03 -2.99974008e+01\n",
      " -4.08220629e+00  7.44472928e-04]\n"
     ]
    }
   ],
   "source": [
    "earth_state_wrt_sun, earth_sun_light_time = spiceypy.spkgeo(targ=399, et=et_today_midnight,\n",
    "                                                            ref=\"ECLIPJ2000\", obs=10)\n",
    "                                                            \n",
    "print(earth_state_wrt_sun)                                                        "
   ]
  },
  {
   "cell_type": "code",
   "execution_count": 13,
   "metadata": {},
   "outputs": [
    {
     "name": "stdout",
     "output_type": "stream",
     "text": [
      "147107483.70825762\n"
     ]
    }
   ],
   "source": [
    "import math\n",
    "earth_sun_distance=math.sqrt(earth_state_wrt_sun[0] ** 2.0\n",
    "                             + earth_state_wrt_sun[1] **2.0\n",
    "                             + earth_state_wrt_sun[2] ** 2.0)\n",
    "\n",
    "print(earth_sun_distance)"
   ]
  },
  {
   "cell_type": "code",
   "execution_count": 14,
   "metadata": {},
   "outputs": [
    {
     "name": "stdout",
     "output_type": "stream",
     "text": [
      "0.9833527917528837\n"
     ]
    }
   ],
   "source": [
    "earth_sun_distance_au=spiceypy.convrt(earth_sun_distance,\"km\",\"au\")\n",
    "print(earth_sun_distance_au)"
   ]
  },
  {
   "cell_type": "code",
   "execution_count": 15,
   "metadata": {},
   "outputs": [
    {
     "name": "stdout",
     "output_type": "stream",
     "text": [
      "30.27389079346251\n"
     ]
    }
   ],
   "source": [
    "import numpy as np \n",
    "\n",
    "earth_state_wrt_sun=np.array(earth_state_wrt_sun)\n",
    "\n",
    "earth_sun_distance=np.linalg.norm(earth_state_wrt_sun[:3])\n",
    "\n",
    "earth_orbit_speed_wrt_sun=np.linalg.norm(earth_state_wrt_sun[3:])\n",
    "\n",
    "print(earth_orbit_speed_wrt_sun)\n",
    "\n"
   ]
  },
  {
   "cell_type": "code",
   "execution_count": 17,
   "metadata": {},
   "outputs": [
    {
     "name": "stdout",
     "output_type": "stream",
     "text": [
      "30.035746734105032\n"
     ]
    }
   ],
   "source": [
    "spiceypy.furnsh(\"../Earth/kernels/pck/gm_de431.tpc\")\n",
    "_, GM_SUN = spiceypy.bodvcd(bodyid =10 ,item=\"GM\",maxn=1)\n",
    "\n",
    "v_orb_func=lambda gm, r: np.sqrt(gm/r)\n",
    "earth_orbit_speed_wrt_sun_theory=v_orb_func(GM_SUN[0],earth_sun_distance)\n",
    "\n",
    "print(earth_orbit_speed_wrt_sun_theory)\n",
    "\n"
   ]
  },
  {
   "cell_type": "code",
   "execution_count": 20,
   "metadata": {},
   "outputs": [],
   "source": [
    "earth_position_wrt_sun=earth_state_wrt_sun[:3]\n",
    "\n",
    "earth_position_wrt_sun_normed=earth_position_wrt_sun/earth_sun_distance\n",
    "\n",
    "earth_position_wrt_sun_normed_autum=np.array([1.0,0.0,0.0])"
   ]
  },
  {
   "cell_type": "code",
   "execution_count": 21,
   "metadata": {},
   "outputs": [
    {
     "name": "stdout",
     "output_type": "stream",
     "text": [
      "97.6733129628734\n"
     ]
    }
   ],
   "source": [
    "ang_dist_deg=np.degrees(np.arccos(np.dot(earth_position_wrt_sun_normed,earth_position_wrt_sun_normed_autum)))\n",
    "\n",
    "\n",
    "\n",
    "print(ang_dist_deg)"
   ]
  },
  {
   "cell_type": "code",
   "execution_count": null,
   "metadata": {},
   "outputs": [],
   "source": []
  }
 ],
 "metadata": {
  "kernelspec": {
   "display_name": "Python 3",
   "language": "python",
   "name": "python3"
  },
  "language_info": {
   "codemirror_mode": {
    "name": "ipython",
    "version": 3
   },
   "file_extension": ".py",
   "mimetype": "text/x-python",
   "name": "python",
   "nbconvert_exporter": "python",
   "pygments_lexer": "ipython3",
   "version": "3.12.0"
  }
 },
 "nbformat": 4,
 "nbformat_minor": 2
}
